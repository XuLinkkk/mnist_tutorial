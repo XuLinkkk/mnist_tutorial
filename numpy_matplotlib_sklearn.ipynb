{
 "cells": [
  {
   "cell_type": "markdown",
   "metadata": {},
   "source": [
    "# Numpy, Matplotlib and Sklearn Tutorial"
   ]
  },
  {
   "cell_type": "markdown",
   "metadata": {},
   "source": [
    "We often use numpy to handle high dimensional arrays.\n",
    "\n",
    "Let's try the basic operation of numpy:"
   ]
  },
  {
   "cell_type": "code",
   "execution_count": 1,
   "metadata": {
    "scrolled": true
   },
   "outputs": [
    {
     "name": "stdout",
     "output_type": "stream",
     "text": [
      "2 (2, 3) 6 int32 <class 'numpy.ndarray'>\n"
     ]
    }
   ],
   "source": [
    "import numpy as np\n",
    "\n",
    "a = np.array([[1,2,3], [2,3,4]])\n",
    "print(a.ndim, a.shape, a.size, a.dtype, type(a))\n",
    "\n",
    "b = np.zeros((3,4))\n",
    "c = np.ones((3,4))\n",
    "d = np.random.randn(2,3)\n",
    "e = np.array([[1,2], [2,3], [3,4]])\n",
    "f = b*2 - c*3\n",
    "g = 2*c*f\n",
    "h = np.dot(a,e) #矩阵乘法\n",
    "i = d.mean()\n",
    "j = d.max(axis=1)\n",
    "k = a[-1][:2]\n",
    "\n",
    "# You can print a to k for details"
   ]
  },
  {
   "cell_type": "markdown",
   "metadata": {},
   "source": [
    "matplotlib.pyplot provides very useful apis for drawing graphs.\n",
    "\n",
    "Let's try the basic operation of matplotlib.pyplot:"
   ]
  },
  {
   "cell_type": "code",
   "execution_count": 10,
   "metadata": {},
   "outputs": [
    {
     "data": {
      "text/plain": [
       "<Figure size 640x480 with 1 Axes>"
      ]
     },
     "metadata": {},
     "output_type": "display_data"
    }
   ],
   "source": [
    "import matplotlib.pyplot as plt\n",
    "\n",
    "x = np.arange(2, 10, 0.2)\n",
    "\n",
    "plt.plot(x, x**1.5*.5, 'r-', x, np.log(x)*5, 'g--', x, x, 'b.')\n",
    "plt.show()"
   ]
  },
  {
   "cell_type": "markdown",
   "metadata": {},
   "source": [
    "If you want to print them in different graphs, try this:"
   ]
  },
  {
   "cell_type": "code",
   "execution_count": null,
   "metadata": {
    "scrolled": true
   },
   "outputs": [],
   "source": [
    "def f(x):\n",
    "    return np.sin(np.pi*x)\n",
    "\n",
    "x1 = np.arange(0, 5, 0.1)\n",
    "x2 = np.arange(0, 5, 0.01)\n",
    "\n",
    "plt.subplot(211)\n",
    "plt.plot(x1, f(x1), 'go', x2, f(x2-1))\n",
    "\n",
    "plt.subplot(212)\n",
    "plt.plot(x2, f(x2), 'r--')\n",
    "plt.show()"
   ]
  },
  {
   "cell_type": "markdown",
   "metadata": {},
   "source": [
    "How about printing images?\n",
    "\n",
    "Let's try to print a image whose pixels gradually change:\n",
    "\n",
    "Different pixel values represent different gray levels."
   ]
  },
  {
   "cell_type": "code",
   "execution_count": null,
   "metadata": {
    "scrolled": true
   },
   "outputs": [],
   "source": [
    "img = np.arange(0, 1, 1/32/32) # define an 1D array with 32x32 elements gradually increasing\n",
    "img = img.reshape(32, 32)      # reshape it into 32x32 array, the array represents a 32x32 image,\n",
    "                               # each element represents the corresponding pixel of the image\n",
    "plt.imshow(img, cmap='gray')\n",
    "plt.show()\n"
   ]
  },
  {
   "cell_type": "markdown",
   "metadata": {
    "collapsed": true
   },
   "source": [
    "Based on numpy, Scikit-learn (sklearn) provides a lot of tools for machine learning.It is a very powerful machine learning library.\n",
    "\n",
    "Then, let's use it for mnist classification:"
   ]
  },
  {
   "cell_type": "code",
   "execution_count": null,
   "metadata": {
    "scrolled": false
   },
   "outputs": [],
   "source": [
    "from sklearn.datasets import fetch_mldata\n",
    "\n",
    "# download and read mnist\n",
    "mnist = fetch_mldata('MNIST original', data_home=r'C:\\Users\\Administrator\\Desktop\\机器学习\\mnist_tutorial-master\\mldata')\n",
    "\n",
    "# 'mnist.data' is 70k x 784 array, each row represents the pixels from a 28x28=784 image\n",
    "# 'mnist.target' is 70k x 1 array, each row represents the target class of the corresponding image\n",
    "images = mnist.data\n",
    "targets = mnist.target\n",
    "\n",
    "# make the value of pixels from [0, 255] to [0, 1] for further process\n",
    "X = mnist.data / 255.\n",
    "Y = mnist.target\n",
    "\n",
    "# print the first image of the dataset\n",
    "img1 = X[0].reshape(28, 28)\n",
    "plt.imshow(img1, cmap='gray')\n",
    "plt.show()\n",
    "\n",
    "# print the images after simple transformation\n",
    "img2 = 1 - img1\n",
    "plt.imshow(img2, cmap='gray')\n",
    "plt.show()\n",
    "\n",
    "img3 = img1.transpose()\n",
    "plt.imshow(img3, cmap='gray')\n",
    "plt.show()"
   ]
  },
  {
   "cell_type": "code",
   "execution_count": null,
   "metadata": {},
   "outputs": [],
   "source": [
    "# split data to train and test (for faster calculation, just use 1/10 data)\n",
    "from sklearn.model_selection import train_test_split\n",
    "X_train, X_test, Y_train, Y_test = train_test_split(X[::10], Y[::10], test_size=1000)"
   ]
  },
  {
   "cell_type": "markdown",
   "metadata": {
    "collapsed": true
   },
   "source": [
    "#### Q1:\n",
    "Please use the logistic regression(default parameters) in sklearn to classify the data above, and print the training accuracy and test accuracy."
   ]
  },
  {
   "cell_type": "code",
   "execution_count": 9,
   "metadata": {
    "scrolled": false
   },
   "outputs": [
    {
     "name": "stderr",
     "output_type": "stream",
     "text": [
      "C:\\Users\\Administrator\\Anaconda3\\lib\\site-packages\\sklearn\\utils\\deprecation.py:77: DeprecationWarning: Function fetch_mldata is deprecated; fetch_mldata was deprecated in version 0.20 and will be removed in version 0.22\n",
      "  warnings.warn(msg, category=DeprecationWarning)\n",
      "C:\\Users\\Administrator\\Anaconda3\\lib\\site-packages\\sklearn\\utils\\deprecation.py:77: DeprecationWarning: Function mldata_filename is deprecated; mldata_filename was deprecated in version 0.20 and will be removed in version 0.22\n",
      "  warnings.warn(msg, category=DeprecationWarning)\n",
      "C:\\Users\\Administrator\\Anaconda3\\lib\\site-packages\\sklearn\\linear_model\\logistic.py:432: FutureWarning: Default solver will be changed to 'lbfgs' in 0.22. Specify a solver to silence this warning.\n",
      "  FutureWarning)\n",
      "C:\\Users\\Administrator\\Anaconda3\\lib\\site-packages\\sklearn\\linear_model\\logistic.py:459: FutureWarning: Default multi_class will be changed to 'auto' in 0.22. Specify the multi_class option to silence this warning.\n",
      "  \"this warning.\", FutureWarning)\n"
     ]
    },
    {
     "name": "stdout",
     "output_type": "stream",
     "text": [
      "Training accuracy: 95.70%\n",
      "Testing accuracy: 90.50%\n"
     ]
    }
   ],
   "source": [
    "# TODO:use logistic regression\n",
    "import numpy as np\n",
    "\n",
    "from sklearn.linear_model import LogisticRegression\n",
    "from sklearn import metrics\n",
    "\n",
    "from sklearn.datasets import fetch_mldata\n",
    "from sklearn.model_selection import train_test_split\n",
    "\n",
    "\n",
    "\n",
    "# download and read mnist\n",
    "mnist = fetch_mldata('MNIST original', data_home=r'C:\\Users\\Administrator\\Desktop\\机器学习\\mnist_tutorial-master\\mldata')\n",
    "\n",
    "# 'mnist.data' is 70k x 784 array, each row represents the pixels from a 28x28=784 image\n",
    "# 'mnist.target' is 70k x 1 array, each row represents the target class of the corresponding image\n",
    "images = mnist.data\n",
    "targets = mnist.target\n",
    "\n",
    "# make the value of pixels from [0, 255] to [0, 1] for further process\n",
    "X = mnist.data / 255.\n",
    "Y = mnist.target\n",
    "\n",
    "X_train, X_test, Y_train, Y_test = train_test_split(X[::10], Y[::10], test_size=1000)\n",
    "\n",
    "cls= LogisticRegression()\n",
    "cls.fit(X_train,Y_train)\n",
    "y_train=cls.predict(X_train)\n",
    "y_test=cls.predict(X_test)\n",
    "train_accuracy=metrics.accuracy_score(Y_train,y_train)\n",
    "test_accuracy=metrics.accuracy_score(Y_test,y_test)\n",
    "\n",
    "\n",
    "\n",
    "print('Training accuracy: %0.2f%%' % (train_accuracy*100))\n",
    "print('Testing accuracy: %0.2f%%' % (test_accuracy*100))"
   ]
  },
  {
   "cell_type": "markdown",
   "metadata": {},
   "source": [
    "#### Q2:\n",
    "Please use the naive bayes(Bernoulli, default parameters) in sklearn to classify the data above, and print the training accuracy and test accuracy."
   ]
  },
  {
   "cell_type": "code",
   "execution_count": 14,
   "metadata": {},
   "outputs": [
    {
     "name": "stderr",
     "output_type": "stream",
     "text": [
      "C:\\Users\\Administrator\\Anaconda3\\lib\\site-packages\\sklearn\\utils\\deprecation.py:77: DeprecationWarning: Function fetch_mldata is deprecated; fetch_mldata was deprecated in version 0.20 and will be removed in version 0.22\n",
      "  warnings.warn(msg, category=DeprecationWarning)\n",
      "C:\\Users\\Administrator\\Anaconda3\\lib\\site-packages\\sklearn\\utils\\deprecation.py:77: DeprecationWarning: Function mldata_filename is deprecated; mldata_filename was deprecated in version 0.20 and will be removed in version 0.22\n",
      "  warnings.warn(msg, category=DeprecationWarning)\n"
     ]
    },
    {
     "name": "stdout",
     "output_type": "stream",
     "text": [
      "Training accuracy: 83.95%\n",
      "Testing accuracy: 82.90%\n"
     ]
    }
   ],
   "source": [
    "# TODO:use naive bayes\n",
    "import numpy as np\n",
    "from sklearn import metrics\n",
    "from sklearn.datasets import fetch_mldata\n",
    "from sklearn.model_selection import train_test_split\n",
    "from sklearn.naive_bayes import BernoulliNB\n",
    "\n",
    "# download and read mnist\n",
    "mnist = fetch_mldata('MNIST original', data_home=r'C:\\Users\\Administrator\\Desktop\\机器学习\\mnist_tutorial-master\\mldata')\n",
    "\n",
    "# 'mnist.data' is 70k x 784 array, each row represents the pixels from a 28x28=784 image\n",
    "# 'mnist.target' is 70k x 1 array, each row represents the target class of the corresponding image\n",
    "images = mnist.data\n",
    "targets = mnist.target\n",
    "\n",
    "# make the value of pixels from [0, 255] to [0, 1] for further process\n",
    "X = mnist.data / 255.\n",
    "Y = mnist.target\n",
    "\n",
    "X_train, X_test, Y_train, Y_test = train_test_split(X[::10], Y[::10], test_size=1000)\n",
    "\n",
    "cls=BernoulliNB()\n",
    "cls.fit(X_train,Y_train)\n",
    "y_train=cls.predict(X_train)\n",
    "y_test=cls.predict(X_test)\n",
    "train_accuracy=metrics.accuracy_score(Y_train,y_train)\n",
    "test_accuracy=metrics.accuracy_score(Y_test,y_test)\n",
    "\n",
    "print('Training accuracy: %0.2f%%' % (train_accuracy*100))\n",
    "print('Testing accuracy: %0.2f%%' % (test_accuracy*100))"
   ]
  },
  {
   "cell_type": "markdown",
   "metadata": {},
   "source": [
    "#### Q3:\n",
    "Please use the support vector machine(default parameters) in sklearn to classify the data above, and print the training accuracy and test accuracy."
   ]
  },
  {
   "cell_type": "code",
   "execution_count": 19,
   "metadata": {},
   "outputs": [
    {
     "name": "stderr",
     "output_type": "stream",
     "text": [
      "C:\\Users\\Administrator\\Anaconda3\\lib\\site-packages\\sklearn\\utils\\deprecation.py:77: DeprecationWarning: Function fetch_mldata is deprecated; fetch_mldata was deprecated in version 0.20 and will be removed in version 0.22\n",
      "  warnings.warn(msg, category=DeprecationWarning)\n",
      "C:\\Users\\Administrator\\Anaconda3\\lib\\site-packages\\sklearn\\utils\\deprecation.py:77: DeprecationWarning: Function mldata_filename is deprecated; mldata_filename was deprecated in version 0.20 and will be removed in version 0.22\n",
      "  warnings.warn(msg, category=DeprecationWarning)\n"
     ]
    },
    {
     "name": "stdout",
     "output_type": "stream",
     "text": [
      "Training accuracy: 98.23%\n",
      "Testing accuracy: 86.70%\n"
     ]
    },
    {
     "name": "stderr",
     "output_type": "stream",
     "text": [
      "C:\\Users\\Administrator\\Anaconda3\\lib\\site-packages\\sklearn\\svm\\base.py:922: ConvergenceWarning: Liblinear failed to converge, increase the number of iterations.\n",
      "  \"the number of iterations.\", ConvergenceWarning)\n"
     ]
    }
   ],
   "source": [
    "# TODO:use support vector machine\n",
    "import numpy as np\n",
    "from sklearn import metrics\n",
    "from sklearn.datasets import fetch_mldata\n",
    "from sklearn.model_selection import train_test_split\n",
    "from sklearn.svm import LinearSVC\n",
    "\n",
    "# download and read mnist\n",
    "mnist = fetch_mldata('MNIST original', data_home=r'C:\\Users\\Administrator\\Desktop\\机器学习\\mnist_tutorial-master\\mldata')\n",
    "\n",
    "# 'mnist.data' is 70k x 784 array, each row represents the pixels from a 28x28=784 image\n",
    "# 'mnist.target' is 70k x 1 array, each row represents the target class of the corresponding image\n",
    "images = mnist.data\n",
    "targets = mnist.target\n",
    "\n",
    "# make the value of pixels from [0, 255] to [0, 1] for further process\n",
    "X = mnist.data / 255.\n",
    "Y = mnist.target\n",
    "\n",
    "X_train, X_test, Y_train, Y_test = train_test_split(X[::10], Y[::10], test_size=1000)\n",
    "\n",
    "cls=LinearSVC()\n",
    "cls.fit(X_train,Y_train)\n",
    "y_train=cls.predict(X_train)\n",
    "y_test=cls.predict(X_test)\n",
    "train_accuracy=metrics.accuracy_score(Y_train,y_train)\n",
    "test_accuracy=metrics.accuracy_score(Y_test,y_test)\n",
    "\n",
    "\n",
    "print('Training accuracy: %0.2f%%' % (train_accuracy*100))\n",
    "print('Testing accuracy: %0.2f%%' % (test_accuracy*100))"
   ]
  },
  {
   "cell_type": "markdown",
   "metadata": {},
   "source": [
    "#### Q4:\n",
    "Please adjust the parameters of SVM to increase the testing accuracy, and print the training accuracy and test accuracy."
   ]
  },
  {
   "cell_type": "code",
   "execution_count": 23,
   "metadata": {},
   "outputs": [
    {
     "name": "stderr",
     "output_type": "stream",
     "text": [
      "C:\\Users\\Administrator\\Anaconda3\\lib\\site-packages\\sklearn\\utils\\deprecation.py:77: DeprecationWarning: Function fetch_mldata is deprecated; fetch_mldata was deprecated in version 0.20 and will be removed in version 0.22\n",
      "  warnings.warn(msg, category=DeprecationWarning)\n",
      "C:\\Users\\Administrator\\Anaconda3\\lib\\site-packages\\sklearn\\utils\\deprecation.py:77: DeprecationWarning: Function mldata_filename is deprecated; mldata_filename was deprecated in version 0.20 and will be removed in version 0.22\n",
      "  warnings.warn(msg, category=DeprecationWarning)\n",
      "C:\\Users\\Administrator\\Anaconda3\\lib\\site-packages\\sklearn\\svm\\base.py:922: ConvergenceWarning: Liblinear failed to converge, increase the number of iterations.\n",
      "  \"the number of iterations.\", ConvergenceWarning)\n"
     ]
    },
    {
     "name": "stdout",
     "output_type": "stream",
     "text": [
      "Training accuracy: 93.51%\n",
      "Testing accuracy: 91.03%\n"
     ]
    }
   ],
   "source": [
    "# TODO:use SVM with another group of parameters\n",
    "import numpy as np\n",
    "from sklearn import metrics\n",
    "from sklearn.datasets import fetch_mldata\n",
    "from sklearn.model_selection import train_test_split\n",
    "from sklearn.svm import LinearSVC\n",
    "\n",
    "# download and read mnist\n",
    "mnist = fetch_mldata('MNIST original', data_home=r'C:\\Users\\Administrator\\Desktop\\机器学习\\mnist_tutorial-master\\mldata')\n",
    "\n",
    "# 'mnist.data' is 70k x 784 array, each row represents the pixels from a 28x28=784 image\n",
    "# 'mnist.target' is 70k x 1 array, each row represents the target class of the corresponding image\n",
    "images = mnist.data\n",
    "targets = mnist.target\n",
    "\n",
    "# make the value of pixels from [0, 255] to [0, 1] for further process\n",
    "X = mnist.data / 255.\n",
    "Y = mnist.target\n",
    "\n",
    "X_train, X_test, Y_train, Y_test = train_test_split(X[::1], Y[::1], test_size=0.5)\n",
    "\n",
    "cls=LinearSVC()\n",
    "cls.fit(X_train,Y_train)\n",
    "y_train=cls.predict(X_train)\n",
    "y_test=cls.predict(X_test)\n",
    "train_accuracy=metrics.accuracy_score(Y_train,y_train)\n",
    "test_accuracy=metrics.accuracy_score(Y_test,y_test)\n",
    "\n",
    "print('Training accuracy: %0.2f%%' % (train_accuracy*100))\n",
    "print('Testing accuracy: %0.2f%%' % (test_accuracy*100))"
   ]
  },
  {
   "cell_type": "markdown",
   "metadata": {},
   "source": []
  }
 ],
 "metadata": {
  "kernelspec": {
   "display_name": "Python 3",
   "language": "python",
   "name": "python3"
  },
  "language_info": {
   "codemirror_mode": {
    "name": "ipython",
    "version": 3
   },
   "file_extension": ".py",
   "mimetype": "text/x-python",
   "name": "python",
   "nbconvert_exporter": "python",
   "pygments_lexer": "ipython3",
   "version": "3.6.7"
  }
 },
 "nbformat": 4,
 "nbformat_minor": 2
}
