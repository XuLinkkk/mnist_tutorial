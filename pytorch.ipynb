{
 "cells": [
  {
   "cell_type": "markdown",
   "metadata": {},
   "source": [
    "# Pytorch Tutorial"
   ]
  },
  {
   "cell_type": "markdown",
   "metadata": {},
   "source": [
    "Pytorch is a popular deep learning framework and it's easy to get started."
   ]
  },
  {
   "cell_type": "code",
   "execution_count": null,
   "metadata": {},
   "outputs": [
    {
     "name": "stdout",
     "output_type": "stream",
     "text": [
      "Downloading http://yann.lecun.com/exdb/mnist/train-images-idx3-ubyte.gz\n",
      "Downloading http://yann.lecun.com/exdb/mnist/train-labels-idx1-ubyte.gz\n",
      "Downloading http://yann.lecun.com/exdb/mnist/t10k-images-idx3-ubyte.gz\n"
     ]
    }
   ],
   "source": [
    "import torch\n",
    "import torch.nn as nn\n",
    "import torch.utils.data as data\n",
    "import torchvision\n",
    "import torchvision.transforms as transforms\n",
    "from tqdm import tqdm\n",
    "import time\n",
    "\n",
    "BATCH_SIZE = 128\n",
    "NUM_EPOCHS = 10"
   ]
  },
  {
   "cell_type": "markdown",
   "metadata": {},
   "source": [
    "First, we read the mnist data, preprocess them and encapsulate them into dataloader form."
   ]
  },
  {
   "cell_type": "code",
   "execution_count": null,
   "metadata": {
    "collapsed": true
   },
   "outputs": [],
   "source": [
    "# preprocessing\n",
    "normalize = transforms.Normalize(mean=[.5], std=[.5])\n",
    "transform = transforms.Compose([transforms.ToTensor(), normalize])\n",
    "\n",
    "# download and load the data\n",
    "train_dataset = torchvision.datasets.MNIST(root='./mnist/', train=True, transform=transform, download=True)\n",
    "test_dataset = torchvision.datasets.MNIST(root='./mnist/', train=False, transform=transform, download=False)\n",
    "\n",
    "# encapsulate them into dataloader form\n",
    "train_loader = data.DataLoader(train_dataset, batch_size=BATCH_SIZE, shuffle=True, drop_last=True)\n",
    "test_loader = data.DataLoader(test_dataset, batch_size=BATCH_SIZE, shuffle=False, drop_last=True)"
   ]
  },
  {
   "cell_type": "markdown",
   "metadata": {},
   "source": [
    "Then, we define the model, object function and optimizer that we use to classify."
   ]
  },
  {
   "cell_type": "code",
   "execution_count": 13,
   "metadata": {},
   "outputs": [
    {
     "name": "stdout",
     "output_type": "stream",
     "text": [
      "neural_net(\n",
      "  (fc1): Linear(in_features=784, out_features=100, bias=True)\n",
      "  (relu): ReLU()\n",
      "  (fc2): Linear(in_features=100, out_features=10, bias=True)\n",
      ")\n"
     ]
    }
   ],
   "source": [
    "hidden_size = 100\n",
    "class neural_net(nn.Module):\n",
    "# TODO:define model\n",
    "    def __init__(self, input_num,hidden_size, out_put):\n",
    "        super(neural_net, self).__init__()\n",
    "        self.fc1 = nn.Linear(input_num, hidden_size)\n",
    "        self.relu = nn.ReLU()\n",
    "        self.fc2 = nn.Linear(hidden_size, out_put)\n",
    "\n",
    "    def forward(self, x):\n",
    "        out = self.fc1(x)\n",
    "        out = self.relu(out)\n",
    "        out = self.fc2(out)\n",
    "        return out\n",
    "\n",
    "model = neural_net(input_size, hidden_size, num_classes)\n",
    "\n",
    "# TODO:define loss function and optimiter\n",
    "criterion = nn.CrossEntropyLoss()\n",
    "optimizer = torch.optim.Adam(model.parameters(), lr = learning_rate)"
   ]
  },
  {
   "cell_type": "markdown",
   "metadata": {},
   "source": [
    "Next, we can start to train and evaluate!"
   ]
  },
  {
   "cell_type": "code",
   "execution_count": 32,
   "metadata": {},
   "outputs": [
    {
     "name": "stdout",
     "output_type": "stream",
     "text": [
      "current epoch = 0\n"
     ]
    },
    {
     "name": "stderr",
     "output_type": "stream",
     "text": [
      "C:\\Users\\Administrator\\Anaconda3\\lib\\site-packages\\ipykernel_launcher.py:16: UserWarning: invalid index of a 0-dim tensor. This will be an error in PyTorch 0.5. Use tensor.item() to convert a 0-dim tensor to a Python number\n",
      "  app.launch_new_instance()\n"
     ]
    },
    {
     "name": "stdout",
     "output_type": "stream",
     "text": [
      "current loss = 0.03892 current accuray=99.61\n",
      "current loss = 0.03922 current accuray=99.61\n",
      "current loss = 0.00437 current accuray=99.96\n",
      "current loss = 0.01980 current accuray=99.80\n",
      "current loss = 0.05183 current accuray=99.48\n",
      "current epoch = 1\n",
      "current loss = 0.02484 current accuray=99.75\n",
      "current loss = 0.01629 current accuray=99.84\n",
      "current loss = 0.00467 current accuray=99.95\n",
      "current loss = 0.00361 current accuray=99.96\n",
      "current loss = 0.02251 current accuray=99.77\n",
      "current epoch = 2\n",
      "current loss = 0.01424 current accuray=99.86\n",
      "current loss = 0.00641 current accuray=99.94\n",
      "current loss = 0.04734 current accuray=99.53\n",
      "current loss = 0.05964 current accuray=99.40\n",
      "current loss = 0.03708 current accuray=99.63\n",
      "current epoch = 3\n",
      "current loss = 0.00754 current accuray=99.92\n",
      "current loss = 0.00476 current accuray=99.95\n",
      "current loss = 0.01705 current accuray=99.83\n",
      "current loss = 0.03395 current accuray=99.66\n",
      "current loss = 0.02608 current accuray=99.74\n",
      "current epoch = 4\n",
      "current loss = 0.00548 current accuray=99.95\n",
      "current loss = 0.02654 current accuray=99.73\n",
      "current loss = 0.06475 current accuray=99.35\n",
      "current loss = 0.07604 current accuray=99.24\n",
      "current loss = 0.01609 current accuray=99.84\n",
      "current epoch = 5\n",
      "current loss = 0.01488 current accuray=99.85\n",
      "current loss = 0.00957 current accuray=99.90\n",
      "current loss = 0.00988 current accuray=99.90\n",
      "current loss = 0.01499 current accuray=99.85\n",
      "current loss = 0.01153 current accuray=99.88\n",
      "current epoch = 6\n",
      "current loss = 0.02998 current accuray=99.70\n",
      "current loss = 0.00287 current accuray=99.97\n",
      "current loss = 0.00406 current accuray=99.96\n",
      "current loss = 0.02762 current accuray=99.72\n",
      "current loss = 0.01348 current accuray=99.87\n",
      "current epoch = 7\n",
      "current loss = 0.02521 current accuray=99.75\n",
      "current loss = 0.00781 current accuray=99.92\n",
      "current loss = 0.02915 current accuray=99.71\n",
      "current loss = 0.00537 current accuray=99.95\n",
      "current loss = 0.03862 current accuray=99.61\n",
      "current epoch = 8\n",
      "current loss = 0.01076 current accuray=99.89\n",
      "current loss = 0.01185 current accuray=99.88\n",
      "current loss = 0.00499 current accuray=99.95\n",
      "current loss = 0.06274 current accuray=99.37\n",
      "current loss = 0.02711 current accuray=99.73\n",
      "current epoch = 9\n",
      "current loss = 0.00820 current accuray=99.92\n",
      "current loss = 0.01123 current accuray=99.89\n",
      "current loss = 0.00396 current accuray=99.96\n",
      "current loss = 0.01934 current accuray=99.81\n",
      "current loss = 0.00720 current accuray=99.93\n"
     ]
    }
   ],
   "source": [
    "# train and evaluate\n",
    "learning_rate = 1e-3\n",
    "for epoch in range(NUM_EPOCHS):\n",
    "    print('current epoch = %d' % epoch)\n",
    "    for i, (images, labels) in enumerate(train_loader):\n",
    "        images = Variable(images.view(-1, 28 * 28))\n",
    "        labels = Variable(labels)\n",
    "\n",
    "        optimizer.zero_grad()\n",
    "        outputs = model(images)\n",
    "        loss = criterion(outputs, labels)\n",
    "        loss.backward()\n",
    "        optimizer.step()\n",
    "\n",
    "        if i % 100 == 0:\n",
    "            print('current loss = %.5f' % loss.data[0],'current accuray=%.2f'%(100*(1-loss.data[0]/10)))\n",
    "\n",
    "        \n",
    "              # TODO:forward + backward + optimize      \n",
    "    # evaluate\n",
    "    # TODO:calculate the accuracy using traning and testing dataset"
   ]
  },
  {
   "cell_type": "code",
   "execution_count": 35,
   "metadata": {},
   "outputs": [
    {
     "name": "stdout",
     "output_type": "stream",
     "text": [
      "Test Accuracy = 97.00\n"
     ]
    }
   ],
   "source": [
    "\n",
    "total=0\n",
    "correct=0\n",
    "\n",
    "for images, labels in test_loader:\n",
    "\n",
    "    images = Variable(images.view(-1, 28 * 28))\n",
    "    outputs = model(images)\n",
    "\n",
    "    _, y = torch.max(outputs.data, 1)\n",
    "    total += labels.size(0)\n",
    "    correct += (y == labels).sum()\n",
    "\n",
    "print('Test Accuracy = %.2f' % (100 * correct / total))\n"
   ]
  }
 ],
 "metadata": {
  "kernelspec": {
   "display_name": "Python 3",
   "language": "python",
   "name": "python3"
  },
  "language_info": {
   "codemirror_mode": {
    "name": "ipython",
    "version": 3
   },
   "file_extension": ".py",
   "mimetype": "text/x-python",
   "name": "python",
   "nbconvert_exporter": "python",
   "pygments_lexer": "ipython3",
   "version": "3.7.0"
  }
 },
 "nbformat": 4,
 "nbformat_minor": 2
}
